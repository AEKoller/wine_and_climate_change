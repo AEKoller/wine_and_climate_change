{
 "cells": [
  {
   "cell_type": "code",
   "execution_count": 3,
   "metadata": {},
   "outputs": [],
   "source": [
    "import matplotlib.pyplot as plt\n",
    "import pandas as pd\n",
    "import scipy.stats as st\n",
    "\n",
    "wine_production_path = \"Resources/wine-production.csv\"\n",
    "global_temps_path = \"Resources/GlobalLandTemperatures_GlobalLandTemperaturesByCountry.csv\"\n",
    "\n",
    "wine_production_data = pd.read_csv(wine_production_path)\n",
    "global_temps_data = pd.read_csv(global_temps_path)\n"
   ]
  },
  {
   "cell_type": "code",
   "execution_count": 9,
   "metadata": {},
   "outputs": [],
   "source": [
    "\n",
    "unique_countries_wine = wine_production_data['Entity'].unique()\n",
    "\n"
   ]
  },
  {
   "cell_type": "code",
   "execution_count": null,
   "metadata": {},
   "outputs": [],
   "source": [
    "\n",
    "\n",
    "for countries in unique_countries_wine\n",
    "\n",
    "\n",
    "duplicate_mouse_data = []\n",
    "\n",
    "for mouse_id in duplicate_mouse_ids:\n",
    "    mice_data = meta_study_data[meta_study_data['Mouse ID'] == mouse_id]\n",
    "    duplicate_mouse_data.append(mice_data)\n",
    "\n",
    "    #print(f\"Data for Mouse ID {mouse_id}:\")\n",
    "    #print(duplicate_mouse_data)\n",
    "duplicate_display = pd.concat(duplicate_mouse_data)\n",
    "duplicate_display\n",
    "    # Run an API request for each of the cities\n",
    "    try:\n",
    "    \n",
    "         \n",
    "#         # Append the City information into city_data list\n",
    "         city_data.append({\"City\": city, \n",
    "                           \"Lat\": city_lat, \n",
    "                           \"Lng\": city_lng, \n",
    "                           \"Max Temp\": city_max_temp,\n",
    "                           \"Humidity\": city_humidity,\n",
    "                           \"Cloudiness\": city_clouds,\n",
    "                           \"Wind Speed\": city_wind,\n",
    "                           \"Country\": city_country,\n",
    "                           \"Date\": city_date})\n",
    "\n",
    "     # If an error is experienced, skip the city\n",
    "    except:\n",
    "         print(\"City not found. Skipping...\")\n",
    "         pass\n",
    "              \n",
    " # Indicate that Data Loading is complete \n",
    "print(\"-----------------------------\")\n",
    "print(\"Data Retrieval Complete      \")\n",
    "print(\"-----------------------------\")"
   ]
  }
 ],
 "metadata": {
  "kernelspec": {
   "display_name": "base",
   "language": "python",
   "name": "python3"
  },
  "language_info": {
   "codemirror_mode": {
    "name": "ipython",
    "version": 3
   },
   "file_extension": ".py",
   "mimetype": "text/x-python",
   "name": "python",
   "nbconvert_exporter": "python",
   "pygments_lexer": "ipython3",
   "version": "3.11.5"
  }
 },
 "nbformat": 4,
 "nbformat_minor": 2
}
